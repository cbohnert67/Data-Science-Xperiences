{
 "cells": [
  {
   "cell_type": "markdown",
   "id": "131648cb",
   "metadata": {},
   "source": [
    "# \"Décomposition de Zeckendorf et jeu de Nim\"\n",
    "> \"On se propose dans cette étude de calculer la décomposition de Zeckendorf et de l'appliquer à la création d'une stratégie gagnante pour le jeu de Nim.\"\n",
    "\n",
    "- toc: true\n",
    "- branch: master\n",
    "- badges: true\n",
    "- comments: true\n",
    "- author: Cédric Bohnert\n",
    "- categories: [jupyter]"
   ]
  },
  {
   "cell_type": "markdown",
   "id": "9a761910",
   "metadata": {},
   "source": [
    "### La décomposition de Zeckendorf"
   ]
  },
  {
   "cell_type": "markdown",
   "id": "cd824941",
   "metadata": {},
   "source": [
    "Si $n$ est un entier naturel, alors il existe une unique représentation de Zeckendorf de $n$. \n",
    "\n",
    "Cette décomposition est la liste des uniques nombres de Fibonacci deux à deux distincts et non consécutifs de somme égale à $n$."
   ]
  },
  {
   "cell_type": "markdown",
   "id": "597afa59",
   "metadata": {},
   "source": [
    "### Implémentation"
   ]
  },
  {
   "cell_type": "code",
   "execution_count": 1,
   "id": "26a2b5f1",
   "metadata": {},
   "outputs": [],
   "source": [
    "def getNearestFibonacciNumber(n):\n",
    "    \"\"\"Returns the greatest Fibonacci Number smaller than or equal to n.\"\"\"\n",
    "    if (n == 0 or n == 1):\n",
    "        return n\n",
    "    f1, f2, f3 = 0, 1, 1\n",
    "    while (f3 <= n):\n",
    "        f1 = f2\n",
    "        f2 = f3\n",
    "        f3 = f1 + f2\n",
    "    return f2\n",
    "\n",
    "def getZeckendorf(n):\n",
    "    \"\"\"Returns the Zeckendorf decomposition of n.\"\"\"\n",
    "    zeckendorf = []\n",
    "    while (n>0):\n",
    "        f = getNearestFibonacciNumber(n);\n",
    "        zeckendorf.append(f)\n",
    "        n = n-f\n",
    "    return zeckendorf"
   ]
  },
  {
   "cell_type": "code",
   "execution_count": 2,
   "id": "baca1860",
   "metadata": {},
   "outputs": [],
   "source": [
    "zeckendorf = getZeckendorf(64)"
   ]
  },
  {
   "cell_type": "code",
   "execution_count": 3,
   "id": "5bd176fe",
   "metadata": {},
   "outputs": [
    {
     "data": {
      "text/plain": [
       "[55, 8, 1]"
      ]
     },
     "execution_count": 3,
     "metadata": {},
     "output_type": "execute_result"
    }
   ],
   "source": [
    "zeckendorf"
   ]
  },
  {
   "cell_type": "markdown",
   "id": "cedd69ab",
   "metadata": {},
   "source": [
    "On vérifie bien :"
   ]
  },
  {
   "cell_type": "code",
   "execution_count": 4,
   "id": "e12d593c",
   "metadata": {},
   "outputs": [
    {
     "data": {
      "text/plain": [
       "64"
      ]
     },
     "execution_count": 4,
     "metadata": {},
     "output_type": "execute_result"
    }
   ],
   "source": [
    "sum(zeckendorf)"
   ]
  },
  {
   "cell_type": "markdown",
   "id": "a5dfbc44",
   "metadata": {},
   "source": [
    "### Application au jeu de Nim"
   ]
  },
  {
   "cell_type": "markdown",
   "id": "80ec9c02",
   "metadata": {},
   "source": [
    "Deux joueurs tirent à leur tour des allumettes d'une boîte, avec les règles suivantes :\n",
    "\n",
    "* Chaque joueur tire à chaque fois au moins une allumette\n",
    "* Le premier joueur ne retire pas la totalité des allumettes au premier tour\n",
    "* Un joueur tire au plus deux fois le nombre d'allumettes tirées par le joueur précédent\n",
    "* Le joueur qui retire la dernière allumette a gagné\n",
    "\n",
    "On peut montrer que si le nombre initial d'allumettes n'est pas un nombre de Fibonacci, une stratégie gagnante pour le joueur 1 consiste à tirer autant d'allumettes que le plus petit terme de la décomposition de Zeckendorf du nombre d'allumettes."
   ]
  },
  {
   "cell_type": "code",
   "execution_count": 5,
   "id": "83f41106",
   "metadata": {},
   "outputs": [],
   "source": [
    "def playNim(n):\n",
    "    \"\"\" Runs a game of Nim against computer with n not being a Fibonacci number\"\"\"\n",
    "    tour = 0\n",
    "    joueur = 0\n",
    "    while True:\n",
    "        tour += 1\n",
    "        tirage = getZeckendorf(n)[-1]\n",
    "        print(\"Tour {} :\".format(tour))\n",
    "        print(\"Joueur 1 : {} allumettes restantes.\".format(n))\n",
    "        print(\"Ordinateur tire {} allumettes\".format(tirage))\n",
    "        n -= tirage\n",
    "        if n==0:\n",
    "            print(\"Ordinateur a gagné!\")\n",
    "            break\n",
    "        print(\"Joueur 2 : {} allumettes restantes.\".format(n))\n",
    "        n -= int(input(\"Tirer entre 1 et {} allumettes : \".format(2*tirage)))\n",
    "        if n==0:\n",
    "            print(\"Vous avez gagné!\")\n",
    "            break"
   ]
  },
  {
   "cell_type": "code",
   "execution_count": 6,
   "id": "7d05f0b8",
   "metadata": {},
   "outputs": [
    {
     "name": "stdout",
     "output_type": "stream",
     "text": [
      "Tour 1 :\n",
      "Joueur 1 : 60 allumettes restantes.\n",
      "Ordinateur tire 5 allumettes\n",
      "Joueur 2 : 55 allumettes restantes.\n",
      "Tirer entre 1 et 10 allumettes : 1\n",
      "Tour 2 :\n",
      "Joueur 1 : 54 allumettes restantes.\n",
      "Ordinateur tire 2 allumettes\n",
      "Joueur 2 : 52 allumettes restantes.\n",
      "Tirer entre 1 et 4 allumettes : 4\n",
      "Tour 3 :\n",
      "Joueur 1 : 48 allumettes restantes.\n",
      "Ordinateur tire 1 allumettes\n",
      "Joueur 2 : 47 allumettes restantes.\n",
      "Tirer entre 1 et 2 allumettes : 1\n",
      "Tour 4 :\n",
      "Joueur 1 : 46 allumettes restantes.\n",
      "Ordinateur tire 1 allumettes\n",
      "Joueur 2 : 45 allumettes restantes.\n",
      "Tirer entre 1 et 2 allumettes : 1\n",
      "Tour 5 :\n",
      "Joueur 1 : 44 allumettes restantes.\n",
      "Ordinateur tire 2 allumettes\n",
      "Joueur 2 : 42 allumettes restantes.\n",
      "Tirer entre 1 et 4 allumettes : 1\n",
      "Tour 6 :\n",
      "Joueur 1 : 41 allumettes restantes.\n",
      "Ordinateur tire 2 allumettes\n",
      "Joueur 2 : 39 allumettes restantes.\n",
      "Tirer entre 1 et 4 allumettes : 1\n",
      "Tour 7 :\n",
      "Joueur 1 : 38 allumettes restantes.\n",
      "Ordinateur tire 1 allumettes\n",
      "Joueur 2 : 37 allumettes restantes.\n",
      "Tirer entre 1 et 2 allumettes : 1\n",
      "Tour 8 :\n",
      "Joueur 1 : 36 allumettes restantes.\n",
      "Ordinateur tire 2 allumettes\n",
      "Joueur 2 : 34 allumettes restantes.\n",
      "Tirer entre 1 et 4 allumettes : 1\n",
      "Tour 9 :\n",
      "Joueur 1 : 33 allumettes restantes.\n",
      "Ordinateur tire 1 allumettes\n",
      "Joueur 2 : 32 allumettes restantes.\n",
      "Tirer entre 1 et 2 allumettes : 2\n",
      "Tour 10 :\n",
      "Joueur 1 : 30 allumettes restantes.\n",
      "Ordinateur tire 1 allumettes\n",
      "Joueur 2 : 29 allumettes restantes.\n",
      "Tirer entre 1 et 2 allumettes : 2\n",
      "Tour 11 :\n",
      "Joueur 1 : 27 allumettes restantes.\n",
      "Ordinateur tire 1 allumettes\n",
      "Joueur 2 : 26 allumettes restantes.\n",
      "Tirer entre 1 et 2 allumettes : 2\n",
      "Tour 12 :\n",
      "Joueur 1 : 24 allumettes restantes.\n",
      "Ordinateur tire 3 allumettes\n",
      "Joueur 2 : 21 allumettes restantes.\n",
      "Tirer entre 1 et 6 allumettes : 6\n",
      "Tour 13 :\n",
      "Joueur 1 : 15 allumettes restantes.\n",
      "Ordinateur tire 2 allumettes\n",
      "Joueur 2 : 13 allumettes restantes.\n",
      "Tirer entre 1 et 4 allumettes : 1\n",
      "Tour 14 :\n",
      "Joueur 1 : 12 allumettes restantes.\n",
      "Ordinateur tire 1 allumettes\n",
      "Joueur 2 : 11 allumettes restantes.\n",
      "Tirer entre 1 et 2 allumettes : 1\n",
      "Tour 15 :\n",
      "Joueur 1 : 10 allumettes restantes.\n",
      "Ordinateur tire 2 allumettes\n",
      "Joueur 2 : 8 allumettes restantes.\n",
      "Tirer entre 1 et 4 allumettes : 1\n",
      "Tour 16 :\n",
      "Joueur 1 : 7 allumettes restantes.\n",
      "Ordinateur tire 2 allumettes\n",
      "Joueur 2 : 5 allumettes restantes.\n",
      "Tirer entre 1 et 4 allumettes : 1\n",
      "Tour 17 :\n",
      "Joueur 1 : 4 allumettes restantes.\n",
      "Ordinateur tire 1 allumettes\n",
      "Joueur 2 : 3 allumettes restantes.\n",
      "Tirer entre 1 et 2 allumettes : 2\n",
      "Tour 18 :\n",
      "Joueur 1 : 1 allumettes restantes.\n",
      "Ordinateur tire 1 allumettes\n",
      "Ordinateur a gagné!\n"
     ]
    }
   ],
   "source": [
    "playNim(60)"
   ]
  }
 ],
 "metadata": {
  "@webio": {
   "lastCommId": null,
   "lastKernelId": null
  },
  "kernelspec": {
   "display_name": "Python 3",
   "language": "python",
   "name": "python3"
  },
  "language_info": {
   "codemirror_mode": {
    "name": "ipython",
    "version": 3
   },
   "file_extension": ".py",
   "mimetype": "text/x-python",
   "name": "python",
   "nbconvert_exporter": "python",
   "pygments_lexer": "ipython3",
   "version": "3.7.11"
  }
 },
 "nbformat": 4,
 "nbformat_minor": 5
}
