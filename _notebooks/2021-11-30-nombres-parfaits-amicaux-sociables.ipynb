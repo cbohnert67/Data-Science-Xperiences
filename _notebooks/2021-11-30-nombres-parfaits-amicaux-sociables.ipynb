{
 "cells": [
  {
   "cell_type": "markdown",
   "id": "16555234",
   "metadata": {},
   "source": [
    "# \n",
    "\n",
    "# \"Nombres parfaits, nombres amicaux et nombres sociables\"\n",
    "> \"On se propose dans cette étude d'exhiber des nombres parfaits, des nombres amicaux et des nombres sociables.\"\n",
    "\n",
    "- toc: true\n",
    "- branch: master\n",
    "- badges: true\n",
    "- comments: true\n",
    "- author: Cédric Bohnert\n",
    "- categories: [jupyter]"
   ]
  },
  {
   "cell_type": "markdown",
   "id": "6f4d52e6",
   "metadata": {},
   "source": [
    "### Quelques définitions\n",
    "\n",
    "Un nombre parfait est un nombre $n$ dont la somme de ses diviseurs propres (donc différents de $n$) est égale à $n$.\n",
    "\n",
    "Un couple de nombre amicaux $(m,n)$ est un couple constitué de deux entiers strictement positifs distincts tels que la somme des diviseurs propre de chacun est égal à l'autre.\n",
    "\n",
    "Un nombre sociable est un élément d'une chaîne sociable qui est une séquence $(a_1, \\dots, a_n)$ d'entiers strictement positifs tels que chacun soit égal à la somme des diviseurs propres du précédent (cycliquement)."
   ]
  },
  {
   "cell_type": "markdown",
   "id": "83774c29",
   "metadata": {},
   "source": [
    "### Recherche de nombres parfaits par méthode naive\n",
    "\n",
    "On recherchera les diviseurs propres d'un entier strictement positif par exhaustivité.\n",
    "\n",
    "On testera la somme des diviseurs propres ainsi obtenus pour vérifier si un nombre $n$ est parfait.\n",
    "\n",
    "On recherchera tous les nombres parfaits inférieurs ou égaux à un entier $N$ donné."
   ]
  },
  {
   "cell_type": "code",
   "execution_count": 1,
   "id": "1be3f776",
   "metadata": {},
   "outputs": [],
   "source": [
    "def getDivisors(n):\n",
    "    \"\"\"Returns a list of all positive divisors of integer n>0\"\"\"\n",
    "    divisors = []\n",
    "    for i in range(1, n+1):\n",
    "        if n % i == 0:\n",
    "            divisors.append(i)\n",
    "    return divisors\n",
    "def isPerfect(n):\n",
    "    \"\"\"Returns True of n is a perfect number\"\"\"\n",
    "    return (sum(getDivisors(n))-n) == n\n",
    "\n",
    "def getPerfectNumbers(N):\n",
    "    \"\"\"Returns a list of all perfect numbers less than N>0\"\"\"\n",
    "    perfects = []\n",
    "    for i in range(1,N+1):\n",
    "        if isPerfect(i):\n",
    "            perfects.append(i)\n",
    "    return perfects"
   ]
  },
  {
   "cell_type": "code",
   "execution_count": 2,
   "id": "aee3da22",
   "metadata": {},
   "outputs": [
    {
     "data": {
      "text/plain": [
       "[1, 2, 4, 31, 62, 124]"
      ]
     },
     "execution_count": 2,
     "metadata": {},
     "output_type": "execute_result"
    }
   ],
   "source": [
    "getDivisors(124)"
   ]
  },
  {
   "cell_type": "code",
   "execution_count": 3,
   "id": "9a129ca5",
   "metadata": {},
   "outputs": [
    {
     "data": {
      "text/plain": [
       "False"
      ]
     },
     "execution_count": 3,
     "metadata": {},
     "output_type": "execute_result"
    }
   ],
   "source": [
    "isPerfect(124)"
   ]
  },
  {
   "cell_type": "code",
   "execution_count": 4,
   "id": "6133ad61",
   "metadata": {},
   "outputs": [
    {
     "data": {
      "text/plain": [
       "True"
      ]
     },
     "execution_count": 4,
     "metadata": {},
     "output_type": "execute_result"
    }
   ],
   "source": [
    "isPerfect(496)"
   ]
  },
  {
   "cell_type": "markdown",
   "id": "ecd8e696",
   "metadata": {},
   "source": [
    "Recherchons les nombres parfaits inférieurs à 100000 et mesurons le temps de calcul :"
   ]
  },
  {
   "cell_type": "code",
   "execution_count": 5,
   "id": "d170161f",
   "metadata": {},
   "outputs": [
    {
     "name": "stdout",
     "output_type": "stream",
     "text": [
      "CPU times: user 3min 52s, sys: 21.9 ms, total: 3min 52s\n",
      "Wall time: 3min 52s\n"
     ]
    }
   ],
   "source": [
    "%time perfects = getPerfectNumbers(100000)"
   ]
  },
  {
   "cell_type": "code",
   "execution_count": 6,
   "id": "0ce60652",
   "metadata": {},
   "outputs": [
    {
     "data": {
      "text/plain": [
       "[6, 28, 496, 8128]"
      ]
     },
     "execution_count": 6,
     "metadata": {},
     "output_type": "execute_result"
    }
   ],
   "source": [
    "perfects"
   ]
  },
  {
   "cell_type": "markdown",
   "id": "12e3e9ba",
   "metadata": {},
   "source": [
    "Les nombres parfaits inférieurs à 100000 sont 6, 28, 496 et 8128.\n",
    "\n",
    "Le temps de calcul est assez long pour cette valeur et nous verrons ultérieurement que l'on peut améliorer la rapidité de ce calcul."
   ]
  },
  {
   "cell_type": "markdown",
   "id": "b99915eb",
   "metadata": {},
   "source": [
    "### Un somme particulière"
   ]
  },
  {
   "cell_type": "markdown",
   "id": "3f00725d",
   "metadata": {},
   "source": [
    "Calculons la somme des inverses des diviseurs des quelques premiers nombres parfaits :"
   ]
  },
  {
   "cell_type": "code",
   "execution_count": 7,
   "id": "95120a48",
   "metadata": {},
   "outputs": [
    {
     "name": "stdout",
     "output_type": "stream",
     "text": [
      "n =  6 :  2.0\n",
      "n =  28 :  2.0\n",
      "n =  496 :  2.0\n",
      "n =  8128 :  2.0\n"
     ]
    }
   ],
   "source": [
    "for i in perfects:\n",
    "    s = sum([1/d for d in getDivisors(i)])\n",
    "    print(\"n = \", i, \": \", s)"
   ]
  },
  {
   "cell_type": "markdown",
   "id": "20044ae7",
   "metadata": {},
   "source": [
    "On observe que cette somme vaut 2 pour les quatre premiers nombres parfaits.\n",
    "\n",
    "Conjecturons que ce résultat est valide quelque soit le nombre parfait et démontrons le :"
   ]
  },
  {
   "cell_type": "markdown",
   "id": "b4cdfa7b",
   "metadata": {},
   "source": [
    "Soient $n$ un nombre parfait et $d_i$, $i=1, \\dots , k$ ses $k$ diviseurs, rangés dans l'ordre croissant et où $d_1=1$ et $d_k=n$.\n",
    "\n",
    "Notons $S = \\sum_{i=1}^k \\frac{1}{d_i}$.\n",
    "\n",
    "En multipliant $S$ par $n$ on obtient aisement, $nS = n ( \\sum_{i=1}^k \\frac{1}{d_i}) = \\sum_{i=1}^k \\frac{n}{d_i}$.\n",
    "\n",
    "Cette dernière somme n'est autre que la somme des diviseurs de $n$ rangés dans l'ordre décroissant.\n",
    "\n",
    "Comme $n$ est un nombre parfait, la somme de ses diviseurs vaut $2n$. \n",
    "\n",
    "D'où le résultat : $S=2$."
   ]
  },
  {
   "cell_type": "markdown",
   "id": "7024c127",
   "metadata": {},
   "source": [
    "### Recherche de nombres amicaux par méthode naive\n",
    "\n",
    "On recherchera les nombres amicaux $(m,n)$, tels que $m \\leq N$, pour un entier $N$ donné :"
   ]
  },
  {
   "cell_type": "code",
   "execution_count": 8,
   "id": "365e52ed",
   "metadata": {},
   "outputs": [],
   "source": [
    "def getFriends(N):\n",
    "    \"\"\"Returns a list of all friendly numbers (m,n) for a given N such that  m<=N\"\"\"\n",
    "    friends = []\n",
    "    temp = []\n",
    "    for m in range(1,N+1):\n",
    "        if not m in temp:\n",
    "            s1 = sum(getDivisors(m))-m\n",
    "            s2 = sum(getDivisors(s1))-s1\n",
    "            if m==s2 and m!=s1:\n",
    "                friends.append((m, s1))\n",
    "                temp.append(s1)\n",
    "    return friends"
   ]
  },
  {
   "cell_type": "code",
   "execution_count": 9,
   "id": "8586efb6",
   "metadata": {},
   "outputs": [
    {
     "name": "stdout",
     "output_type": "stream",
     "text": [
      "CPU times: user 6min 21s, sys: 4.02 ms, total: 6min 21s\n",
      "Wall time: 6min 21s\n"
     ]
    },
    {
     "data": {
      "text/plain": [
       "[(220, 284),\n",
       " (1184, 1210),\n",
       " (2620, 2924),\n",
       " (5020, 5564),\n",
       " (6232, 6368),\n",
       " (10744, 10856),\n",
       " (12285, 14595),\n",
       " (17296, 18416),\n",
       " (63020, 76084),\n",
       " (66928, 66992),\n",
       " (67095, 71145),\n",
       " (69615, 87633),\n",
       " (79750, 88730)]"
      ]
     },
     "execution_count": 9,
     "metadata": {},
     "output_type": "execute_result"
    }
   ],
   "source": [
    "%time getFriends(100000)"
   ]
  },
  {
   "cell_type": "markdown",
   "id": "cb8a56c3",
   "metadata": {},
   "source": [
    "Nous déterminons 13 paires de nombres amicaux en plus de 5min de temps de calcul."
   ]
  },
  {
   "cell_type": "code",
   "execution_count": 10,
   "id": "cdb02f6b",
   "metadata": {},
   "outputs": [
    {
     "name": "stdout",
     "output_type": "stream",
     "text": [
      "CPU times: user 26min 3s, sys: 264 ms, total: 26min 3s\n",
      "Wall time: 26min 6s\n"
     ]
    },
    {
     "data": {
      "text/plain": [
       "[(220, 284),\n",
       " (1184, 1210),\n",
       " (2620, 2924),\n",
       " (5020, 5564),\n",
       " (6232, 6368),\n",
       " (10744, 10856),\n",
       " (12285, 14595),\n",
       " (17296, 18416),\n",
       " (63020, 76084),\n",
       " (66928, 66992),\n",
       " (67095, 71145),\n",
       " (69615, 87633),\n",
       " (79750, 88730),\n",
       " (100485, 124155),\n",
       " (122265, 139815),\n",
       " (122368, 123152),\n",
       " (141664, 153176),\n",
       " (142310, 168730),\n",
       " (171856, 176336),\n",
       " (176272, 180848),\n",
       " (185368, 203432),\n",
       " (196724, 202444)]"
      ]
     },
     "execution_count": 10,
     "metadata": {},
     "output_type": "execute_result"
    }
   ],
   "source": [
    "%time getFriends(200000)"
   ]
  },
  {
   "cell_type": "markdown",
   "id": "32e26b49",
   "metadata": {},
   "source": [
    "Cette fois, nous déterminons 22 couples de nombres amicaux mais en plus de 20min de temps de calcul."
   ]
  },
  {
   "cell_type": "markdown",
   "id": "4d3228ba",
   "metadata": {},
   "source": [
    "### Recherche de nombres sociables par méthode améliorée\n",
    "\n",
    "On recherchera les chaînes sociables ne faisant intervenir que des nombres inférieurs à 1000000 et contenant au moins un nombre inférieur ou égal à 15000.\n",
    "\n",
    "Notons que la somme de tous les diviseurs de $n$ (y compris $n$) s'exprime :\n",
    "\n",
    "$$s(n)= \\prod_{i=1}^k \\frac{p_i^{\\alpha_i+1}-1}{p_i-1}$$\n",
    "\n",
    "où les $p_i$ et $\\alpha_i$ sont les termes de la décomposition en facteurs premiers de $n$.\n",
    "\n",
    "Utiliser cette expression nous permettra de réduire les temps de calculs."
   ]
  },
  {
   "cell_type": "code",
   "execution_count": 11,
   "id": "7c5c8247",
   "metadata": {},
   "outputs": [],
   "source": [
    "def getPrimeDecomposition(n):\n",
    "    \"\"\"Returns a list of all prime factors for a given integer n>0\"\"\"\n",
    "    primes = []\n",
    "    d = 2\n",
    "    alpha = 0\n",
    "    while (n%d==0):\n",
    "        alpha += 1\n",
    "        n = int(n/d)\n",
    "    if (alpha>0):\n",
    "        primes.append((d, alpha))\n",
    "    d = 3\n",
    "    while (d<=n):\n",
    "        alpha = 0\n",
    "        while (n%d==0):\n",
    "            alpha += 1\n",
    "            n = int(n/d)\n",
    "        if (alpha>0):\n",
    "            primes.append((d, alpha))\n",
    "        d += 2\n",
    "    return primes\n",
    "\n",
    "def getDivisorSum(n):\n",
    "    \"\"\"Returns the sum of divisors of a given integer n>0\"\"\"\n",
    "    result = 1\n",
    "    decomposition = getPrimeDecomposition(n)\n",
    "    for f in decomposition:\n",
    "        result *= int((f[0]**(f[1]+1)-1)/(f[0]-1))\n",
    "    return result"
   ]
  },
  {
   "cell_type": "code",
   "execution_count": 12,
   "id": "359bba2a",
   "metadata": {},
   "outputs": [
    {
     "data": {
      "text/plain": [
       "[(2, 1)]"
      ]
     },
     "execution_count": 12,
     "metadata": {},
     "output_type": "execute_result"
    }
   ],
   "source": [
    "getPrimeDecomposition(2)"
   ]
  },
  {
   "cell_type": "code",
   "execution_count": 13,
   "id": "1de924ac",
   "metadata": {},
   "outputs": [
    {
     "data": {
      "text/plain": [
       "[(2, 2), (3, 1), (13, 1), (71, 1), (2539, 1)]"
      ]
     },
     "execution_count": 13,
     "metadata": {},
     "output_type": "execute_result"
    }
   ],
   "source": [
    "getPrimeDecomposition(28121964)"
   ]
  },
  {
   "cell_type": "code",
   "execution_count": 14,
   "id": "3f8b35e7",
   "metadata": {},
   "outputs": [
    {
     "data": {
      "text/plain": [
       "202444"
      ]
     },
     "execution_count": 14,
     "metadata": {},
     "output_type": "execute_result"
    }
   ],
   "source": [
    "getDivisorSum(196724)-196724"
   ]
  },
  {
   "cell_type": "markdown",
   "id": "b97ce3ac",
   "metadata": {},
   "source": [
    "Vérifions que l'on a bien un algorithme plus rapide en recherchant à nouveau une liste de nombres amicaux :"
   ]
  },
  {
   "cell_type": "code",
   "execution_count": 15,
   "id": "5c00a97a",
   "metadata": {},
   "outputs": [],
   "source": [
    "def getFriends2(N):\n",
    "    \"\"\"Returns a list of all friendly numbers (m,n) for a given N such that  m<=N\"\"\"\n",
    "    friends = []\n",
    "    temp = []\n",
    "    for m in range(2,N+1):\n",
    "        if not m in temp:\n",
    "            s1 = getDivisorSum(m)-m\n",
    "            if (s1>1):\n",
    "                s2 = getDivisorSum(s1)-s1\n",
    "                if m==s2 and m!=s1:\n",
    "                    friends.append((m, s1))\n",
    "                    temp.append(s1)\n",
    "    return friends"
   ]
  },
  {
   "cell_type": "code",
   "execution_count": 16,
   "id": "bc56892a",
   "metadata": {},
   "outputs": [
    {
     "name": "stdout",
     "output_type": "stream",
     "text": [
      "CPU times: user 53.4 s, sys: 4 ms, total: 53.4 s\n",
      "Wall time: 53.4 s\n"
     ]
    },
    {
     "data": {
      "text/plain": [
       "[(220, 284),\n",
       " (1184, 1210),\n",
       " (2620, 2924),\n",
       " (5020, 5564),\n",
       " (6232, 6368),\n",
       " (10744, 10856),\n",
       " (12285, 14595),\n",
       " (17296, 18416),\n",
       " (63020, 76084),\n",
       " (66928, 66992),\n",
       " (67095, 71145),\n",
       " (69615, 87633),\n",
       " (79750, 88730)]"
      ]
     },
     "execution_count": 16,
     "metadata": {},
     "output_type": "execute_result"
    }
   ],
   "source": [
    "%time getFriends2(100000)"
   ]
  },
  {
   "cell_type": "code",
   "execution_count": 17,
   "id": "f1e26499",
   "metadata": {},
   "outputs": [
    {
     "name": "stdout",
     "output_type": "stream",
     "text": [
      "CPU times: user 3min 31s, sys: 96 ms, total: 3min 31s\n",
      "Wall time: 3min 31s\n"
     ]
    },
    {
     "data": {
      "text/plain": [
       "[(220, 284),\n",
       " (1184, 1210),\n",
       " (2620, 2924),\n",
       " (5020, 5564),\n",
       " (6232, 6368),\n",
       " (10744, 10856),\n",
       " (12285, 14595),\n",
       " (17296, 18416),\n",
       " (63020, 76084),\n",
       " (66928, 66992),\n",
       " (67095, 71145),\n",
       " (69615, 87633),\n",
       " (79750, 88730),\n",
       " (100485, 124155),\n",
       " (122265, 139815),\n",
       " (122368, 123152),\n",
       " (141664, 153176),\n",
       " (142310, 168730),\n",
       " (171856, 176336),\n",
       " (176272, 180848),\n",
       " (185368, 203432),\n",
       " (196724, 202444)]"
      ]
     },
     "execution_count": 17,
     "metadata": {},
     "output_type": "execute_result"
    }
   ],
   "source": [
    "%time getFriends2(200000)"
   ]
  },
  {
   "cell_type": "code",
   "execution_count": 18,
   "id": "c6b3f84f",
   "metadata": {},
   "outputs": [
    {
     "name": "stdout",
     "output_type": "stream",
     "text": [
      "CPU times: user 7min 41s, sys: 156 ms, total: 7min 41s\n",
      "Wall time: 7min 42s\n"
     ]
    },
    {
     "data": {
      "text/plain": [
       "[(220, 284),\n",
       " (1184, 1210),\n",
       " (2620, 2924),\n",
       " (5020, 5564),\n",
       " (6232, 6368),\n",
       " (10744, 10856),\n",
       " (12285, 14595),\n",
       " (17296, 18416),\n",
       " (63020, 76084),\n",
       " (66928, 66992),\n",
       " (67095, 71145),\n",
       " (69615, 87633),\n",
       " (79750, 88730),\n",
       " (100485, 124155),\n",
       " (122265, 139815),\n",
       " (122368, 123152),\n",
       " (141664, 153176),\n",
       " (142310, 168730),\n",
       " (171856, 176336),\n",
       " (176272, 180848),\n",
       " (185368, 203432),\n",
       " (196724, 202444),\n",
       " (280540, 365084)]"
      ]
     },
     "execution_count": 18,
     "metadata": {},
     "output_type": "execute_result"
    }
   ],
   "source": [
    "%time getFriends2(300000)"
   ]
  },
  {
   "cell_type": "code",
   "execution_count": 19,
   "id": "c2e312c8",
   "metadata": {},
   "outputs": [],
   "source": [
    "def getAliquote(n):\n",
    "    \"\"\" Returns aliquote sequence of integer n>0\"\"\"\n",
    "    aliquote = [n]\n",
    "    while aliquote.count(n)==1 and n<1000000:\n",
    "        n = getDivisorSum(n)-n\n",
    "        if n==0:\n",
    "            break\n",
    "        aliquote.append(n)\n",
    "    return aliquote\n",
    "\n",
    "def getSocialChains(N):\n",
    "    \"\"\"Returns social chains starting with integers less than or equal to N>0\"\"\"\n",
    "    socials = []\n",
    "    temp = []\n",
    "    for i in range(1, N+1):\n",
    "        a = getAliquote(i)\n",
    "        if set(a) not in temp:\n",
    "            if len(a[:-1])>2 and 1 not in a and a[-1] == a[0]:\n",
    "                socials.append(a)\n",
    "                temp.append(set(a))\n",
    "    return socials"
   ]
  },
  {
   "cell_type": "code",
   "execution_count": 20,
   "id": "b52874b7",
   "metadata": {},
   "outputs": [
    {
     "name": "stdout",
     "output_type": "stream",
     "text": [
      "CPU times: user 8min 44s, sys: 180 ms, total: 8min 44s\n",
      "Wall time: 8min 45s\n"
     ]
    }
   ],
   "source": [
    "%time socials = getSocialChains(200000)"
   ]
  },
  {
   "cell_type": "code",
   "execution_count": 21,
   "id": "54c4169a",
   "metadata": {},
   "outputs": [
    {
     "name": "stdout",
     "output_type": "stream",
     "text": [
      "[12496, 14288, 15472, 14536, 14264, 12496]\n",
      "[14316, 19116, 31704, 47616, 83328, 177792, 295488, 629072, 589786, 294896, 358336, 418904, 366556, 274924, 275444, 243760, 376736, 381028, 285778, 152990, 122410, 97946, 48976, 45946, 22976, 22744, 19916, 17716, 14316]\n"
     ]
    }
   ],
   "source": [
    "for s in socials:\n",
    "    print(s)"
   ]
  },
  {
   "cell_type": "markdown",
   "id": "e389aa7b",
   "metadata": {},
   "source": [
    "Nous avons ainsi exhibé deux chaînes sociables ne faisant intervenir que des nombres inférieurs à 1000000 et contenant au moins un nombre inférieur ou égal à 15000."
   ]
  }
 ],
 "metadata": {
  "@webio": {
   "lastCommId": null,
   "lastKernelId": null
  },
  "kernelspec": {
   "display_name": "Python 3",
   "language": "python",
   "name": "python3"
  },
  "language_info": {
   "codemirror_mode": {
    "name": "ipython",
    "version": 3
   },
   "file_extension": ".py",
   "mimetype": "text/x-python",
   "name": "python",
   "nbconvert_exporter": "python",
   "pygments_lexer": "ipython3",
   "version": "3.7.11"
  }
 },
 "nbformat": 4,
 "nbformat_minor": 5
}
