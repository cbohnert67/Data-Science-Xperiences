{
 "cells": [
  {
   "cell_type": "markdown",
   "id": "d3881e3f-d2d6-4477-b465-23d31e4cc222",
   "metadata": {},
   "source": [
    "# Lap, can you quickly show me a long social chain?\n",
    "> \"You are challenging your laptop. You devised a plan to compute a long social chain. But your first attemps failed, timely speaking. Can you think of an alternative? What about tweaking your computations to get them fast?\"\n",
    "\n",
    "- toc: true\n",
    "- branch: master\n",
    "- badges: true\n",
    "- comments: true\n",
    "- author: Cédric Bohnert\n",
    "- categories: [jupyter]"
   ]
  },
  {
   "cell_type": "markdown",
   "id": "915468a6-9e6a-43c8-bb85-1c86d7af19b2",
   "metadata": {
    "tags": []
   },
   "source": [
    "## The objective of the challenge:"
   ]
  },
  {
   "cell_type": "markdown",
   "id": "b34d2ceb-93cd-4494-9946-c0a672c8fa6d",
   "metadata": {},
   "source": [
    "You want to challenge your laptop.\n",
    "\n",
    "Working with large and big integers is central to cryptography and cybersecurity applications. \n",
    "\n",
    "You want to get a sense of feeling about working with big numbers. \n",
    "\n",
    "You know that a very specific task in the domain, which still challenges teams of computer scientists, is to find the prime decomposition of a very big integer in a reasonable time.\n",
    "\n",
    "This task is soundly simple in those words. \n",
    "\n",
    "The formal question is however to find the list of prime numbers, and their multiplicity, with which such a decomposition is found.\n",
    "\n",
    "But, you know finding big primes is practically computationally very expensive. That's interesting! \n",
    "\n",
    "There aren't indeed very fast algorithms that can factor a, let'say 'cryptographic number', which is a very big integer used in cybersecurity.\n",
    "\n",
    "The overall objective of your new challenge is unique. It deserves you to bring a feel of the need of tweaking even the simplest algorithms to speed them up and solve a task.\n",
    "\n",
    "More specifically, you want to code an efficient algorithm of prime decomposition that will push your laptop in the run.\n",
    "\n",
    "Intrigued about that problem, you discovered some special fun integers in your discrete math textbook:\n",
    "\n",
    "You want to exhibit the longest possible social chain with your laptop and with a minimal set of basic python tools and rules.\n",
    "\n",
    "Let's get started!"
   ]
  },
  {
   "cell_type": "markdown",
   "id": "6ffb5e9f-f48b-4b64-913c-ffdedd5d93be",
   "metadata": {},
   "source": [
    "## The tools you can use and why?\n",
    "\n",
    "You are only allowed to use the Python core library to work out arithmetic and lists operations in your code, including the modulo operation. \n",
    "\n",
    "Especially, you constrain yourself not using any specific extra module to code your solution with, except the Datetime and Matplolib for timing considerations.\n",
    "\n",
    "Computations are long and you guess you will need to track time and to plot some curves while investigating the complexity of the problem.\n",
    "\n",
    "You indeed want to visualize the complexity of the solutions you find. You want to plot the time required to compute a set of inputs.\n",
    "\n",
    "You are finally additionnaly warmly welcome to use mathematical tricks to tweak your algorithms with and to speed them up. This is an open book challenge."
   ]
  },
  {
   "cell_type": "markdown",
   "id": "b088f700-171a-4207-988d-d73b3a841d1e",
   "metadata": {},
   "source": [
    "## How to deal with the challenge?"
   ]
  },
  {
   "cell_type": "markdown",
   "id": "025d9b85-fb35-432e-bc51-cac65b7b5560",
   "metadata": {},
   "source": [
    "You are given the next three basic definitions to start with:\n",
    "\n",
    "* A perfect number $n$ is positive integer whose proper divisors (all divisors except $n$ itself) add up to $n$.\n",
    "* Friendly numbers is a couple $(m, n)$ of positive integers where the proper divisors of $m$ add up to $n$, and similarly, the proper divisors of $n$ add up to $m$.\n",
    "* A social chain is a cyclic finite sequence of $q$ positive integers $(n_1, n_2, \\dots, n_q$) in which one element' proper divisors add up to his successor.\n",
    "\n",
    "This is however declarative knowledge. Although you know what these definitions mean, they don't teach you how to compute those math facts. \n",
    "\n",
    "You therefore devise a plan for the computation. \n",
    "\n",
    "You will start with the most basic approach: the naive approach. Listing each and every divisors of an integer.\n",
    "\n",
    "Computing some numbers in such a way will provide a baseline for the complexity of the problem. \n",
    "\n",
    "You next devise to code an algorithm of prime decomposition. The Sieve of Erastoten is one example. You can choose one or more examples.\n",
    "\n",
    "Your bet is a faster running time. \n",
    "\n",
    "After thourough thinking, you have a three steps plan which the details are given in the next sections."
   ]
  },
  {
   "cell_type": "markdown",
   "id": "09ef1ea4-4243-439e-992b-91151c8530ae",
   "metadata": {},
   "source": [
    "## A first step: getting some perfect numbers."
   ]
  },
  {
   "cell_type": "markdown",
   "id": "b32474a8-d5df-4b8c-b262-a2fb02885c9f",
   "metadata": {},
   "source": [
    "To tackle the first task, you have to write three utilities that do the following jobs :\n",
    "\n",
    "* A function that takes a positive integer $n$ and returns a list of all its positive divisors.\n",
    "* A function that takes a positive integer $n$  and returns True if $n$ is a perfect number.\n",
    "* A function that takes a positive integer $N$ and returns a list of all perfect numbers $n_1, n_2, \\dots n_q$ less than $N$.\n",
    "\n",
    "To that point, you will be getting a list of perfect numbers. You could therefore explore how long it takes to get a list for large $N$.\n",
    "\n",
    "Note that in order to compute the divisors of a positive integer $n$ using a naive exhaustion approach, you will simply test each and every integers less than or equal to $n$ for divisibility.\n",
    "\n",
    "You are furthermore suggested to keep track of the computation time to get a perfect numbers list and to study the temporal complexity this naive approach has. \n",
    "\n",
    "You can there produce some nice visualisations to show your results.  \n",
    "\n",
    "When having an algorithm that finishes in a reasonable time and that is correct, whatever slow it is, you are ready to verify some particular perfect numbers properties. \n",
    "\n",
    "For instance, what about the sum $S = \\sum_{i=1}^k \\frac{1}{d_i}$, where $d_i$ describes the set of all divisors of a positive integer ?\n",
    "\n",
    "You can conjecture a result and try to prove it.\n",
    "\n",
    "Finally in this first step, you have now tools to play with perfect numbers. Can you get a list the first ten perfect numbers in less than 30 minutes ? What is the biggest perfect number you can compute?"
   ]
  },
  {
   "cell_type": "markdown",
   "id": "e0da0aff-32cb-41e0-88d3-8e958d51a210",
   "metadata": {},
   "source": [
    "## A second step: computing friendly numbers."
   ]
  },
  {
   "cell_type": "markdown",
   "id": "daedf4c1-c464-4072-a53a-9c981c3f7df8",
   "metadata": {},
   "source": [
    "Your second task is to compute a list of friendly numbers.\n",
    "\n",
    "You need therefore to modify your solution such that your algorithm checks whether a couple of positive integers are friendly numbers.\n",
    "\n",
    "Recall. These numbers are defined such that the sum of the divisors of the first number is equal to the second number and vice-versa.\n",
    "\n",
    "As in the first task, you will still use a naive solution and you will still be confronted to slow computations.\n",
    "\n",
    "How long does it take compute the first 20 friendly numbers?\n",
    "\n",
    "Can you produce a time complexity plot? Can you guess the Big Oh complexity of the naive solution?"
   ]
  },
  {
   "cell_type": "markdown",
   "id": "8f52144e-0f07-4dcd-bc48-f047e5821c7a",
   "metadata": {},
   "source": [
    "## The final step: tweaking your algorithm to make it faster."
   ]
  },
  {
   "cell_type": "markdown",
   "id": "6804675b-c892-41bf-ac17-1d8e5aae8d4e",
   "metadata": {},
   "source": [
    "Well, until now, if you wanted to compute some special numbers with a fast algorithm, you lose the challenge. \n",
    "\n",
    "Your laptop has not enough computational power to exhibe a large perfect number or a large friendly numbers. \n",
    "\n",
    "However, this work gives you a baseline solution that you can try to enhance.\n",
    "\n",
    "This is your last and most important task.\n",
    "\n",
    "Remembering the prime decomposition of a positive integer, you fortunately learn about a result that you guess will help.\n",
    "\n",
    "The sum of every divisors of $n$, including $n$ is given by the following formula:\n",
    "\n",
    "$$s(n)= \\prod_{i=1}^k \\frac{p_i^{\\alpha_i+1}-1}{p_i-1}$$\n",
    "\n",
    "where $p_i$ et $\\alpha_i$ are the components of the prime decomposition of $n$. This is easily checked.\n",
    "\n",
    "Hence, instead of searching for each and every divisors of $n$ as in the naive approach, you now want to compute for the prime decomposition of that number. \n",
    "\n",
    "That's your initial objective and you're to succeed.\n",
    "\n",
    "As already said, there are several algorithms that tackle this problem. Choose one or two of them to implement your new solution.\n",
    "\n",
    "Then study the time complexity of your solution. What is the longest social chain you can exhibit in 30 minutes?\n",
    "\n",
    "What is the longest social chain you can compute patiently with your laptop?"
   ]
  },
  {
   "cell_type": "markdown",
   "id": "14015d6e-4857-4d36-9b69-04ace8385df3",
   "metadata": {},
   "source": [
    "## Conclusion and take-away:"
   ]
  },
  {
   "cell_type": "markdown",
   "id": "c12c7b5e-2c54-4f7b-9947-144c064e8665",
   "metadata": {},
   "source": [
    "You hopefully worked out successfully the three steps of this confrontation with your laptop. \n",
    "\n",
    "The first two tasks were not fast enough to tackle the problem of exhibing special integers large enough you can work or play with in a reasonable time...\n",
    "\n",
    "Then you tweaked your solution using prime decompositions. This speeds up your algorithm and still you realize you are limited to relatively small numbers.\n",
    "\n",
    "Prime decomposition is declarative knowledge, as compared to procedural knowledge. There are multitude algorithms to achieve this task.\n",
    "\n",
    "You have now a sense of what is a hard problem. \n",
    "\n",
    "Designing fast algorithms for prime decomposition and a various classes of problems, even resulting from soundly simple descriptions, can be very challenging and is still in active research. \n",
    "\n",
    "As a successul Data Scientist, you have to design, optimize and work with as fast as possibe learning algorithms."
   ]
  },
  {
   "cell_type": "code",
   "execution_count": null,
   "id": "b8ef96b0-121f-4d55-ae7a-a4f62d1bee9c",
   "metadata": {},
   "outputs": [],
   "source": []
  }
 ],
 "metadata": {
  "kernelspec": {
   "display_name": "Python 3 (ipykernel)",
   "language": "python",
   "name": "python3"
  },
  "language_info": {
   "codemirror_mode": {
    "name": "ipython",
    "version": 3
   },
   "file_extension": ".py",
   "mimetype": "text/x-python",
   "name": "python",
   "nbconvert_exporter": "python",
   "pygments_lexer": "ipython3",
   "version": "3.10.4"
  }
 },
 "nbformat": 4,
 "nbformat_minor": 5
}
